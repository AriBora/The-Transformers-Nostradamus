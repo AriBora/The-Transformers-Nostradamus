{
  "nbformat": 4,
  "nbformat_minor": 0,
  "metadata": {
    "colab": {
      "provenance": []
    },
    "kernelspec": {
      "name": "python3",
      "display_name": "Python 3"
    },
    "language_info": {
      "name": "python"
    }
  },
  "cells": [
    {
      "cell_type": "markdown",
      "source": [
        "# Question 1: CNN using Tensorflow\n",
        "\n",
        "1. Load the cifar 100 dataset. Use the 'coarse' labels.\n",
        "https://www.tensorflow.org/api_docs/python/tf/keras/datasets/cifar100/load_data\n",
        "\n"
      ],
      "metadata": {
        "id": "W4nORi3aWpVu"
      }
    },
    {
      "cell_type": "code",
      "source": [],
      "metadata": {
        "id": "ccF9zoM_Ify_"
      },
      "execution_count": null,
      "outputs": []
    },
    {
      "cell_type": "markdown",
      "source": [
        "2. Check if there are 20 labels in y_train using np.unique()."
      ],
      "metadata": {
        "id": "Aso3EuY7B8ZB"
      }
    },
    {
      "cell_type": "code",
      "source": [],
      "metadata": {
        "id": "T5-kRdpOIhLW"
      },
      "execution_count": null,
      "outputs": []
    },
    {
      "cell_type": "markdown",
      "source": [
        "3. More information about the dataset could be found here : https://www.cs.toronto.edu/~kriz/cifar.html . Plot the first 25 images from both the train and test data. \n",
        "\n",
        "class_names = [\"aquatic mammals\",\"fish\",\"flowers\",\"food containers\",\"fruit and vegetables\",\"household electrical devices\",\n",
        "\"household furniture\",\"insects\",\"large carnivores\",\"large man-made outdoor things\",\"large natural outdoor scenes\",\"large omnivores and herbivores\",\"medium-sized mammals\",\"non-insect invertebrates\",\"people\",\"reptiles\",\"small mammals\",\"trees\",\"vehicles 1\",\"vehicles 2\"]"
      ],
      "metadata": {
        "id": "hk1NMluxsd8b"
      }
    },
    {
      "cell_type": "code",
      "source": [],
      "metadata": {
        "id": "E2ckJxLpIycy"
      },
      "execution_count": null,
      "outputs": []
    },
    {
      "cell_type": "code",
      "source": [],
      "metadata": {
        "id": "mIeOSc5YIy0O"
      },
      "execution_count": null,
      "outputs": []
    },
    {
      "cell_type": "markdown",
      "source": [
        "Import layers and models from tensorflow.keras and build a Sequential Model with Convulation layers at the base and Fully Connected Layers at the top.\n",
        "\n",
        "We used the same model in the Example Notebook for MNIST and achieved only 41% accuracy on the test data.\n",
        "\n",
        "We then used the following architecture to achieve 45% accuracy on the test data:\n",
        "\n",
        "1. Conv Layer : 32 filters each of 3x3.\n",
        "2. Conv Layer : 64 filters each of 3x3.\n",
        "3. Max pool layer of 2x2 kernel size.\n",
        "4. Conv Layer : 64 filters each of 2x2.\n",
        "5. Conv Layer : 64 filters each of 2x2.\n",
        "6. Max pool layer of 2x2 kernel size.\n",
        "7. Flatten.\n",
        "8. Dense of 80 neurons.\n",
        "9. Dense of 50 neurons.\n",
        "10. Dense of 20 neurons.\n",
        "\n",
        "To train this, it required 40 minutes.\n",
        "\n",
        "You should come up with your own architecture."
      ],
      "metadata": {
        "id": "48447pzqqsm0"
      }
    },
    {
      "cell_type": "code",
      "source": [],
      "metadata": {
        "id": "i2cx0NnkI1V9"
      },
      "execution_count": null,
      "outputs": []
    },
    {
      "cell_type": "code",
      "source": [],
      "metadata": {
        "id": "yjPJND51I28f"
      },
      "execution_count": null,
      "outputs": []
    },
    {
      "cell_type": "code",
      "source": [],
      "metadata": {
        "id": "2ydOUSfFI2ij"
      },
      "execution_count": null,
      "outputs": []
    },
    {
      "cell_type": "markdown",
      "source": [
        "Plot the training accuracy vs number of epochs graph. Print the test accuracy."
      ],
      "metadata": {
        "id": "PgCnNZzfJVFb"
      }
    },
    {
      "cell_type": "code",
      "source": [],
      "metadata": {
        "colab": {
          "base_uri": "https://localhost:8080/",
          "height": 473
        },
        "id": "vjZcSfgOhofU",
        "outputId": "582956a9-201c-48af-f5e4-fcdfe74a5f52"
      },
      "execution_count": null,
      "outputs": [
        {
          "output_type": "execute_result",
          "data": {
            "text/plain": [
              "<matplotlib.legend.Legend at 0x7f444c09e3e0>"
            ]
          },
          "metadata": {},
          "execution_count": 28
        },
        {
          "output_type": "display_data",
          "data": {
            "text/plain": [
              "<Figure size 640x480 with 1 Axes>"
            ],
            "image/png": "[encoded data removed]"
          },
          "metadata": {}
        }
      ]
    },
    {
      "cell_type": "markdown",
      "source": [
        "Check this website : https://paperswithcode.com/sota/image-classification-on-cifar-100 . It contains information about the best performing models. The top models are of transformers. We can check the ResNet-18 model. It consists of 18 layers. The architecture could be in the internet. Use ChatGPT if necessary. Training it for 10 epochs will take approximately 1 hour.\n",
        "\n",
        "The layers are :\n",
        "\n",
        "1. Conv layer : 64 kernels, 7x7 . strides = (2,2). activation =none.\n",
        "2. Batch Normalization.\n",
        "3. Relu Activation.\n",
        "4. MaxPooling 3x3 . stride =2x2.\n",
        "5. Conv layer : 64 kernels, 3x3 . strides = (1,1). activation =none.\n",
        "6. Batch Normalization.\n",
        "7. Relu Activation.\n",
        "8. Same as 5 but 128 kernels.\n",
        "9. Batch Normalization.\n",
        "10. Relu Activation.\n",
        "11. Same as 5 but 256 kernels.\n",
        "12. Batch Normalization.\n",
        "13. Relu Activation.\n",
        "14. Same as 5 but 512 kernels.\n",
        "15. Batch Normalization.\n",
        "16. Relu Activation.\n",
        "17. Global Average Pooling.\n",
        "18. Dense layer of 20 neurons.\n",
        "\n",
        "\n",
        "It overfitted my training data (84% accuracy) and gave 51% accuracy in test data. Can you do better?\n"
      ],
      "metadata": {
        "id": "H_sltz7Bl8G9"
      }
    },
    {
      "cell_type": "code",
      "source": [],
      "metadata": {
        "id": "wNPQg0RHJ6eD"
      },
      "execution_count": null,
      "outputs": []
    },
    {
      "cell_type": "code",
      "source": [],
      "metadata": {
        "id": "wdnwCubYJ60L"
      },
      "execution_count": null,
      "outputs": []
    },
    {
      "cell_type": "code",
      "source": [],
      "metadata": {
        "id": "zTNF7TG2BYi4"
      },
      "execution_count": null,
      "outputs": []
    },
    {
      "cell_type": "markdown",
      "source": [
        "# Question 2: Rising Fuel Prices\n",
        "In a regression problem, the aim is to predict the output of a continuous value, like a price or a probability. \n",
        "\n",
        "In this question, we will be using the classic Auto MPG dataset and build a model to predict the fuel efficiency of the late-1970s and early 1980s automobiles. To do this, we will provide the models with a description of many automobiles from that time period. This description includes attributes like cylinders, displacement, horsepower, and weight."
      ],
      "metadata": {
        "id": "WbqAp5sSJ_o_"
      }
    },
    {
      "cell_type": "code",
      "source": [
        "import tensorflow as tf\n",
        "import pandas as pd\n",
        "import numpy as np\n",
        "from sklearn.model_selection import train_test_split\n",
        "from sklearn.preprocessing import StandardScaler"
      ],
      "metadata": {
        "id": "tW7DP0pr9BOa"
      },
      "execution_count": null,
      "outputs": []
    },
    {
      "cell_type": "markdown",
      "source": [
        "Load the data."
      ],
      "metadata": {
        "id": "v5sK4xDG74DN"
      }
    },
    {
      "cell_type": "code",
      "source": [
        "url = 'http://archive.ics.uci.edu/ml/machine-learning-databases/auto-mpg/auto-mpg.data'\n",
        "column_names = ['MPG', 'Cylinders', 'Displacement', 'Horsepower', 'Weight', 'Acceleration', 'Model Year', 'Origin', 'Car Name']\n",
        "dataset = pd.read_csv(url, names=column_names, na_values='?', comment='\\t', sep=' ', skipinitialspace=True)\n",
        "dataset.head()"
      ],
      "metadata": {
        "id": "0IfaMbgx_qQD"
      },
      "execution_count": null,
      "outputs": []
    },
    {
      "cell_type": "markdown",
      "source": [
        "Get an overview of the data."
      ],
      "metadata": {
        "id": "6HyqDO8x77dM"
      }
    },
    {
      "cell_type": "code",
      "source": [
        "dataset.info()"
      ],
      "metadata": {
        "colab": {
          "base_uri": "https://localhost:8080/"
        },
        "id": "UJNh0JCyAwPs",
        "outputId": "89324055-0e90-47d7-d767-27c97c80ec77"
      },
      "execution_count": null,
      "outputs": [
        {
          "output_type": "stream",
          "name": "stdout",
          "text": [
            "<class 'pandas.core.frame.DataFrame'>\n",
            "RangeIndex: 398 entries, 0 to 397\n",
            "Data columns (total 9 columns):\n",
            " #   Column        Non-Null Count  Dtype  \n",
            "---  ------        --------------  -----  \n",
            " 0   MPG           398 non-null    float64\n",
            " 1   Cylinders     398 non-null    int64  \n",
            " 2   Displacement  398 non-null    float64\n",
            " 3   Horsepower    392 non-null    float64\n",
            " 4   Weight        398 non-null    float64\n",
            " 5   Acceleration  398 non-null    float64\n",
            " 6   Model Year    398 non-null    int64  \n",
            " 7   Origin        398 non-null    int64  \n",
            " 8   Car Name      0 non-null      float64\n",
            "dtypes: float64(6), int64(3)\n",
            "memory usage: 28.1 KB\n"
          ]
        }
      ]
    },
    {
      "cell_type": "markdown",
      "source": [
        "Drop the null values and redundant columns. Or you may do imputation of null values, if you are familiar with that.\n",
        "\n",
        "Search for dropping rows with null values in a Pandas dataframe."
      ],
      "metadata": {
        "id": "IacYZCdcAryJ"
      }
    },
    {
      "cell_type": "code",
      "source": [
        "dataset = \"... dataset.dropna....\""
      ],
      "metadata": {
        "id": "WqUZzjE0_yXS"
      },
      "execution_count": null,
      "outputs": []
    },
    {
      "cell_type": "markdown",
      "source": [
        "##Handling Non-Numeric Data\n",
        "The origin column contains \"Label Encoded Values\". More about it [here](https://www.geeksforgeeks.org/ml-label-encoding-of-datasets-in-python/).\n",
        "\n",
        "We want to convert it into a [One-Hot-Encoded](https://www.geeksforgeeks.org/ml-one-hot-encoding-of-datasets-in-python//) value."
      ],
      "metadata": {
        "id": "rsOGE7zwBZ0d"
      }
    },
    {
      "cell_type": "code",
      "source": [
        "# Convert categorical 'Origin' column to one-hot encoded features : pd.get_dummies ...\n"
      ],
      "metadata": {
        "id": "MJJs-1TW_30L"
      },
      "execution_count": null,
      "outputs": []
    },
    {
      "cell_type": "code",
      "source": [
        "# Separate the target variable from the features in the dataset.\n"
      ],
      "metadata": {
        "id": "Q4z9IyID_51W"
      },
      "execution_count": null,
      "outputs": []
    },
    {
      "cell_type": "code",
      "source": [
        "# Split the data into training and testing sets. Use sklearn.model_selection.train_test_split\n"
      ],
      "metadata": {
        "id": "MeqZz-_j_8y-"
      },
      "execution_count": null,
      "outputs": []
    },
    {
      "cell_type": "markdown",
      "source": [
        "#Scaling the Data\n",
        "It is evident that the features vary a lot by a quick statistical survey. To ensure that our model generalizes over a large variety of vehicles, we need to Normalize the data using the *scaler.fit_transform*."
      ],
      "metadata": {
        "id": "jdEve58dB72t"
      }
    },
    {
      "cell_type": "code",
      "source": [
        "# Scale the data\n",
        "from sklearn.preprocessing import StandardScaler\n",
        "scaler = StandardScaler()\n",
        "\"\"\"\n",
        "X_train = scaler.fit_transform(X_train)\n",
        "X_test = scaler.transform(X_test)\n",
        "\n",
        "You may have given different name to your train and test data.\n",
        "\"\"\""
      ],
      "metadata": {
        "id": "OO4pL97WACT8"
      },
      "execution_count": null,
      "outputs": []
    },
    {
      "cell_type": "markdown",
      "source": [
        "# Building the Model\n",
        "\n",
        "Build a Fully Connected Neural Network with 3-4 Dense layers. You may decide the number of neuron in each layers.\n",
        "\n",
        "Fit the model on the train data and evaluate the predictions on test data.\n",
        "\n",
        "Use Adam optimizer and MeanSquaredError cost function. The lower the error, the better the model. Try to get MSE < 6 on the test data."
      ],
      "metadata": {
        "id": "0IvSnumf6eJL"
      }
    },
    {
      "cell_type": "code",
      "source": [
        "model = tf.keras.models.Sequential([\n",
        "    \"...\"\n",
        "])\n",
        "\n",
        "\"\"\"\n",
        "model.compile(......)\n",
        "history = model.fit(X_train_scaled, y_train, epochs=100, batch_size=32, verbose=1)\n",
        "\n",
        "\"\"\""
      ],
      "metadata": {
        "colab": {
          "base_uri": "https://localhost:8080/"
        },
        "id": "beSdjSwf_ADU",
        "outputId": "4464d99c-460d-4b3c-cc84-b33d54ca8858"
      },
      "execution_count": null,
      "outputs": [
        {
          "output_type": "stream",
          "name": "stdout",
          "text": [
            "Epoch 1/100\n",
            "10/10 [==============================] - 1s 2ms/step - loss: 593.5038\n",
            "Epoch 2/100\n",
            "10/10 [==============================] - 0s 3ms/step - loss: 556.7749\n",
            "Epoch 3/100\n",
            "10/10 [==============================] - 0s 2ms/step - loss: 509.8058\n",
            "Epoch 4/100\n",
            "10/10 [==============================] - 0s 2ms/step - loss: 447.8479\n",
            "Epoch 5/100\n",
            "10/10 [==============================] - 0s 2ms/step - loss: 370.0263\n",
            "Epoch 6/100\n",
            "10/10 [==============================] - 0s 2ms/step - loss: 278.5921\n",
            "Epoch 7/100\n",
            "10/10 [==============================] - 0s 3ms/step - loss: 182.6167\n",
            "Epoch 8/100\n",
            "10/10 [==============================] - 0s 2ms/step - loss: 98.2261\n",
            "Epoch 9/100\n",
            "10/10 [==============================] - 0s 3ms/step - loss: 45.8514\n",
            "Epoch 10/100\n",
            "10/10 [==============================] - 0s 2ms/step - loss: 26.3104\n",
            "Epoch 11/100\n",
            "10/10 [==============================] - 0s 2ms/step - loss: 21.8691\n",
            "Epoch 12/100\n",
            "10/10 [==============================] - 0s 3ms/step - loss: 18.3104\n",
            "Epoch 13/100\n",
            "10/10 [==============================] - 0s 3ms/step - loss: 15.5769\n",
            "Epoch 14/100\n",
            "10/10 [==============================] - 0s 2ms/step - loss: 14.3665\n",
            "Epoch 15/100\n",
            "10/10 [==============================] - 0s 2ms/step - loss: 13.5282\n",
            "Epoch 16/100\n",
            "10/10 [==============================] - 0s 2ms/step - loss: 12.7996\n",
            "Epoch 17/100\n",
            "10/10 [==============================] - 0s 2ms/step - loss: 12.1605\n",
            "Epoch 18/100\n",
            "10/10 [==============================] - 0s 3ms/step - loss: 11.5910\n",
            "Epoch 19/100\n",
            "10/10 [==============================] - 0s 2ms/step - loss: 11.1856\n",
            "Epoch 20/100\n",
            "10/10 [==============================] - 0s 2ms/step - loss: 10.7781\n",
            "Epoch 21/100\n",
            "10/10 [==============================] - 0s 3ms/step - loss: 10.4257\n",
            "Epoch 22/100\n",
            "10/10 [==============================] - 0s 3ms/step - loss: 10.1418\n",
            "Epoch 23/100\n",
            "10/10 [==============================] - 0s 3ms/step - loss: 9.8426\n",
            "Epoch 24/100\n",
            "10/10 [==============================] - 0s 3ms/step - loss: 9.6123\n",
            "Epoch 25/100\n",
            "10/10 [==============================] - 0s 2ms/step - loss: 9.4149\n",
            "Epoch 26/100\n",
            "10/10 [==============================] - 0s 2ms/step - loss: 9.1988\n",
            "Epoch 27/100\n",
            "10/10 [==============================] - 0s 2ms/step - loss: 9.0411\n",
            "Epoch 28/100\n",
            "10/10 [==============================] - 0s 2ms/step - loss: 8.8862\n",
            "Epoch 29/100\n",
            "10/10 [==============================] - 0s 3ms/step - loss: 8.7383\n",
            "Epoch 30/100\n",
            "10/10 [==============================] - 0s 3ms/step - loss: 8.5870\n",
            "Epoch 31/100\n",
            "10/10 [==============================] - 0s 2ms/step - loss: 8.4552\n",
            "Epoch 32/100\n",
            "10/10 [==============================] - 0s 3ms/step - loss: 8.3741\n",
            "Epoch 33/100\n",
            "10/10 [==============================] - 0s 2ms/step - loss: 8.2877\n",
            "Epoch 34/100\n",
            "10/10 [==============================] - 0s 3ms/step - loss: 8.2421\n",
            "Epoch 35/100\n",
            "10/10 [==============================] - 0s 2ms/step - loss: 8.0988\n",
            "Epoch 36/100\n",
            "10/10 [==============================] - 0s 2ms/step - loss: 8.0091\n",
            "Epoch 37/100\n",
            "10/10 [==============================] - 0s 2ms/step - loss: 7.9245\n",
            "Epoch 38/100\n",
            "10/10 [==============================] - 0s 2ms/step - loss: 7.8827\n",
            "Epoch 39/100\n",
            "10/10 [==============================] - 0s 2ms/step - loss: 7.7883\n",
            "Epoch 40/100\n",
            "10/10 [==============================] - 0s 3ms/step - loss: 7.7172\n",
            "Epoch 41/100\n",
            "10/10 [==============================] - 0s 2ms/step - loss: 7.6582\n",
            "Epoch 42/100\n",
            "10/10 [==============================] - 0s 2ms/step - loss: 7.6046\n",
            "Epoch 43/100\n",
            "10/10 [==============================] - 0s 2ms/step - loss: 7.5538\n",
            "Epoch 44/100\n",
            "10/10 [==============================] - 0s 3ms/step - loss: 7.4906\n",
            "Epoch 45/100\n",
            "10/10 [==============================] - 0s 3ms/step - loss: 7.4274\n",
            "Epoch 46/100\n",
            "10/10 [==============================] - 0s 3ms/step - loss: 7.4015\n",
            "Epoch 47/100\n",
            "10/10 [==============================] - 0s 2ms/step - loss: 7.3712\n",
            "Epoch 48/100\n",
            "10/10 [==============================] - 0s 3ms/step - loss: 7.3094\n",
            "Epoch 49/100\n",
            "10/10 [==============================] - 0s 2ms/step - loss: 7.2735\n",
            "Epoch 50/100\n",
            "10/10 [==============================] - 0s 2ms/step - loss: 7.2922\n",
            "Epoch 51/100\n",
            "10/10 [==============================] - 0s 2ms/step - loss: 7.1756\n",
            "Epoch 52/100\n",
            "10/10 [==============================] - 0s 2ms/step - loss: 7.1241\n",
            "Epoch 53/100\n",
            "10/10 [==============================] - 0s 2ms/step - loss: 7.1216\n",
            "Epoch 54/100\n",
            "10/10 [==============================] - 0s 4ms/step - loss: 7.0481\n",
            "Epoch 55/100\n",
            "10/10 [==============================] - 0s 3ms/step - loss: 7.0315\n",
            "Epoch 56/100\n",
            "10/10 [==============================] - 0s 3ms/step - loss: 7.0004\n",
            "Epoch 57/100\n",
            "10/10 [==============================] - 0s 2ms/step - loss: 6.9512\n",
            "Epoch 58/100\n",
            "10/10 [==============================] - 0s 3ms/step - loss: 6.9044\n",
            "Epoch 59/100\n",
            "10/10 [==============================] - 0s 3ms/step - loss: 6.9005\n",
            "Epoch 60/100\n",
            "10/10 [==============================] - 0s 3ms/step - loss: 6.8362\n",
            "Epoch 61/100\n",
            "10/10 [==============================] - 0s 2ms/step - loss: 6.7879\n",
            "Epoch 62/100\n",
            "10/10 [==============================] - 0s 2ms/step - loss: 6.8436\n",
            "Epoch 63/100\n",
            "10/10 [==============================] - 0s 2ms/step - loss: 6.7290\n",
            "Epoch 64/100\n",
            "10/10 [==============================] - 0s 2ms/step - loss: 6.7356\n",
            "Epoch 65/100\n",
            "10/10 [==============================] - 0s 2ms/step - loss: 6.6965\n",
            "Epoch 66/100\n",
            "10/10 [==============================] - 0s 2ms/step - loss: 6.6389\n",
            "Epoch 67/100\n",
            "10/10 [==============================] - 0s 2ms/step - loss: 6.6132\n",
            "Epoch 68/100\n",
            "10/10 [==============================] - 0s 2ms/step - loss: 6.6240\n",
            "Epoch 69/100\n",
            "10/10 [==============================] - 0s 2ms/step - loss: 6.6029\n",
            "Epoch 70/100\n",
            "10/10 [==============================] - 0s 2ms/step - loss: 6.5467\n",
            "Epoch 71/100\n",
            "10/10 [==============================] - 0s 2ms/step - loss: 6.5353\n",
            "Epoch 72/100\n",
            "10/10 [==============================] - 0s 2ms/step - loss: 6.5020\n",
            "Epoch 73/100\n",
            "10/10 [==============================] - 0s 3ms/step - loss: 6.5183\n",
            "Epoch 74/100\n",
            "10/10 [==============================] - 0s 3ms/step - loss: 6.4842\n",
            "Epoch 75/100\n",
            "10/10 [==============================] - 0s 2ms/step - loss: 6.3858\n",
            "Epoch 76/100\n",
            "10/10 [==============================] - 0s 2ms/step - loss: 6.3986\n",
            "Epoch 77/100\n",
            "10/10 [==============================] - 0s 2ms/step - loss: 6.3749\n",
            "Epoch 78/100\n",
            "10/10 [==============================] - 0s 3ms/step - loss: 6.3353\n",
            "Epoch 79/100\n",
            "10/10 [==============================] - 0s 2ms/step - loss: 6.3650\n",
            "Epoch 80/100\n",
            "10/10 [==============================] - 0s 3ms/step - loss: 6.3953\n",
            "Epoch 81/100\n",
            "10/10 [==============================] - 0s 3ms/step - loss: 6.2979\n",
            "Epoch 82/100\n",
            "10/10 [==============================] - 0s 2ms/step - loss: 6.2990\n",
            "Epoch 83/100\n",
            "10/10 [==============================] - 0s 2ms/step - loss: 6.2843\n",
            "Epoch 84/100\n",
            "10/10 [==============================] - 0s 2ms/step - loss: 6.2585\n",
            "Epoch 85/100\n",
            "10/10 [==============================] - 0s 3ms/step - loss: 6.1873\n",
            "Epoch 86/100\n",
            "10/10 [==============================] - 0s 3ms/step - loss: 6.1361\n",
            "Epoch 87/100\n",
            "10/10 [==============================] - 0s 2ms/step - loss: 6.2216\n",
            "Epoch 88/100\n",
            "10/10 [==============================] - 0s 2ms/step - loss: 6.1810\n",
            "Epoch 89/100\n",
            "10/10 [==============================] - 0s 2ms/step - loss: 6.1499\n",
            "Epoch 90/100\n",
            "10/10 [==============================] - 0s 3ms/step - loss: 6.1404\n",
            "Epoch 91/100\n",
            "10/10 [==============================] - 0s 3ms/step - loss: 6.0652\n",
            "Epoch 92/100\n",
            "10/10 [==============================] - 0s 2ms/step - loss: 6.0633\n",
            "Epoch 93/100\n",
            "10/10 [==============================] - 0s 2ms/step - loss: 6.0478\n",
            "Epoch 94/100\n",
            "10/10 [==============================] - 0s 3ms/step - loss: 5.9973\n",
            "Epoch 95/100\n",
            "10/10 [==============================] - 0s 3ms/step - loss: 6.0019\n",
            "Epoch 96/100\n",
            "10/10 [==============================] - 0s 2ms/step - loss: 5.9555\n",
            "Epoch 97/100\n",
            "10/10 [==============================] - 0s 2ms/step - loss: 5.9821\n",
            "Epoch 98/100\n",
            "10/10 [==============================] - 0s 2ms/step - loss: 5.9493\n",
            "Epoch 99/100\n",
            "10/10 [==============================] - 0s 2ms/step - loss: 5.9629\n",
            "Epoch 100/100\n",
            "10/10 [==============================] - 0s 2ms/step - loss: 5.9138\n"
          ]
        }
      ]
    },
    {
      "cell_type": "code",
      "source": [
        "#Plot the Loss from the history..\n",
        "\n",
        "\"...\""
      ],
      "metadata": {
        "colab": {
          "base_uri": "https://localhost:8080/",
          "height": 472
        },
        "id": "N5rihpwOAed5",
        "outputId": "235f59c4-2592-4cdd-8128-34fc28037cb4"
      },
      "execution_count": null,
      "outputs": [
        {
          "output_type": "display_data",
          "data": {
            "text/plain": [
              "<Figure size 640x480 with 1 Axes>"
            ],
            "image/png": "[encoded data removed]"
          },
          "metadata": {}
        }
      ]
    },
    {
      "cell_type": "code",
      "source": [
        "# Evaluate the model on the test set"
      ],
      "metadata": {
        "colab": {
          "base_uri": "https://localhost:8080/"
        },
        "id": "YrG2lqm9_CkU",
        "outputId": "ad160081-38dd-4e68-87b5-dc547940c986"
      },
      "execution_count": null,
      "outputs": [
        {
          "output_type": "stream",
          "name": "stdout",
          "text": [
            "3/3 [==============================] - 0s 7ms/step - loss: 5.6222\n",
            "Mean Squared Error (MSE) on Test Set: 5.622158050537109\n"
          ]
        }
      ]
    }
  ]
}